{
 "cells": [
  {
   "cell_type": "markdown",
   "id": "3cb8ce7a-aad4-41c9-be27-6acd056f3ed9",
   "metadata": {},
   "source": [
    "# Etude de cas sur le dataset Communities and Crime des algorithmes de régularisation lasso: ISTA,FISTA et CGDA "
   ]
  },
  {
   "cell_type": "markdown",
   "id": "21ee3754-ca8d-46d6-8e35-086ae2fc7e5f",
   "metadata": {},
   "source": [
    "## Présentation du jeu de données"
   ]
  },
  {
   "cell_type": "code",
   "execution_count": 31,
   "id": "c7ff3328-5dd7-40c4-a90f-22d902b94994",
   "metadata": {},
   "outputs": [],
   "source": [
    "import pandas as pd\n",
    "\n",
    "df1=pd.read_csv('communities.data')\n"
   ]
  },
  {
   "cell_type": "code",
   "execution_count": 35,
   "id": "1312d62f-e0e8-4cb1-8c6c-104face152e2",
   "metadata": {},
   "outputs": [
    {
     "data": {
      "text/html": [
       "<div>\n",
       "<style scoped>\n",
       "    .dataframe tbody tr th:only-of-type {\n",
       "        vertical-align: middle;\n",
       "    }\n",
       "\n",
       "    .dataframe tbody tr th {\n",
       "        vertical-align: top;\n",
       "    }\n",
       "\n",
       "    .dataframe thead th {\n",
       "        text-align: right;\n",
       "    }\n",
       "</style>\n",
       "<table border=\"1\" class=\"dataframe\">\n",
       "  <thead>\n",
       "    <tr style=\"text-align: right;\">\n",
       "      <th></th>\n",
       "      <th>8</th>\n",
       "      <th>?</th>\n",
       "      <th>?.1</th>\n",
       "      <th>Lakewoodcity</th>\n",
       "      <th>1</th>\n",
       "      <th>0.19</th>\n",
       "      <th>0.33</th>\n",
       "      <th>0.02</th>\n",
       "      <th>0.9</th>\n",
       "      <th>0.12</th>\n",
       "      <th>...</th>\n",
       "      <th>0.12.2</th>\n",
       "      <th>0.26.1</th>\n",
       "      <th>0.2.1</th>\n",
       "      <th>0.06.3</th>\n",
       "      <th>0.04.2</th>\n",
       "      <th>0.9.1</th>\n",
       "      <th>0.5.2</th>\n",
       "      <th>0.32.2</th>\n",
       "      <th>0.14.3</th>\n",
       "      <th>0.2.2</th>\n",
       "    </tr>\n",
       "  </thead>\n",
       "  <tbody>\n",
       "    <tr>\n",
       "      <th>0</th>\n",
       "      <td>53</td>\n",
       "      <td>?</td>\n",
       "      <td>?</td>\n",
       "      <td>Tukwilacity</td>\n",
       "      <td>1</td>\n",
       "      <td>0.00</td>\n",
       "      <td>0.16</td>\n",
       "      <td>0.12</td>\n",
       "      <td>0.74</td>\n",
       "      <td>0.45</td>\n",
       "      <td>...</td>\n",
       "      <td>0.02</td>\n",
       "      <td>0.12</td>\n",
       "      <td>0.45</td>\n",
       "      <td>?</td>\n",
       "      <td>?</td>\n",
       "      <td>?</td>\n",
       "      <td>?</td>\n",
       "      <td>0.0</td>\n",
       "      <td>?</td>\n",
       "      <td>0.67</td>\n",
       "    </tr>\n",
       "    <tr>\n",
       "      <th>1</th>\n",
       "      <td>24</td>\n",
       "      <td>?</td>\n",
       "      <td>?</td>\n",
       "      <td>Aberdeentown</td>\n",
       "      <td>1</td>\n",
       "      <td>0.00</td>\n",
       "      <td>0.42</td>\n",
       "      <td>0.49</td>\n",
       "      <td>0.56</td>\n",
       "      <td>0.17</td>\n",
       "      <td>...</td>\n",
       "      <td>0.01</td>\n",
       "      <td>0.21</td>\n",
       "      <td>0.02</td>\n",
       "      <td>?</td>\n",
       "      <td>?</td>\n",
       "      <td>?</td>\n",
       "      <td>?</td>\n",
       "      <td>0.0</td>\n",
       "      <td>?</td>\n",
       "      <td>0.43</td>\n",
       "    </tr>\n",
       "    <tr>\n",
       "      <th>2</th>\n",
       "      <td>34</td>\n",
       "      <td>5</td>\n",
       "      <td>81440</td>\n",
       "      <td>Willingborotownship</td>\n",
       "      <td>1</td>\n",
       "      <td>0.04</td>\n",
       "      <td>0.77</td>\n",
       "      <td>1.00</td>\n",
       "      <td>0.08</td>\n",
       "      <td>0.12</td>\n",
       "      <td>...</td>\n",
       "      <td>0.02</td>\n",
       "      <td>0.39</td>\n",
       "      <td>0.28</td>\n",
       "      <td>?</td>\n",
       "      <td>?</td>\n",
       "      <td>?</td>\n",
       "      <td>?</td>\n",
       "      <td>0.0</td>\n",
       "      <td>?</td>\n",
       "      <td>0.12</td>\n",
       "    </tr>\n",
       "    <tr>\n",
       "      <th>3</th>\n",
       "      <td>42</td>\n",
       "      <td>95</td>\n",
       "      <td>6096</td>\n",
       "      <td>Bethlehemtownship</td>\n",
       "      <td>1</td>\n",
       "      <td>0.01</td>\n",
       "      <td>0.55</td>\n",
       "      <td>0.02</td>\n",
       "      <td>0.95</td>\n",
       "      <td>0.09</td>\n",
       "      <td>...</td>\n",
       "      <td>0.04</td>\n",
       "      <td>0.09</td>\n",
       "      <td>0.02</td>\n",
       "      <td>?</td>\n",
       "      <td>?</td>\n",
       "      <td>?</td>\n",
       "      <td>?</td>\n",
       "      <td>0.0</td>\n",
       "      <td>?</td>\n",
       "      <td>0.03</td>\n",
       "    </tr>\n",
       "    <tr>\n",
       "      <th>4</th>\n",
       "      <td>6</td>\n",
       "      <td>?</td>\n",
       "      <td>?</td>\n",
       "      <td>SouthPasadenacity</td>\n",
       "      <td>1</td>\n",
       "      <td>0.02</td>\n",
       "      <td>0.28</td>\n",
       "      <td>0.06</td>\n",
       "      <td>0.54</td>\n",
       "      <td>1.00</td>\n",
       "      <td>...</td>\n",
       "      <td>0.01</td>\n",
       "      <td>0.58</td>\n",
       "      <td>0.10</td>\n",
       "      <td>?</td>\n",
       "      <td>?</td>\n",
       "      <td>?</td>\n",
       "      <td>?</td>\n",
       "      <td>0.0</td>\n",
       "      <td>?</td>\n",
       "      <td>0.14</td>\n",
       "    </tr>\n",
       "  </tbody>\n",
       "</table>\n",
       "<p>5 rows × 128 columns</p>\n",
       "</div>"
      ],
      "text/plain": [
       "    8   ?    ?.1         Lakewoodcity  1  0.19  0.33  0.02   0.9  0.12  ...  \\\n",
       "0  53   ?      ?          Tukwilacity  1  0.00  0.16  0.12  0.74  0.45  ...   \n",
       "1  24   ?      ?         Aberdeentown  1  0.00  0.42  0.49  0.56  0.17  ...   \n",
       "2  34   5  81440  Willingborotownship  1  0.04  0.77  1.00  0.08  0.12  ...   \n",
       "3  42  95   6096    Bethlehemtownship  1  0.01  0.55  0.02  0.95  0.09  ...   \n",
       "4   6   ?      ?    SouthPasadenacity  1  0.02  0.28  0.06  0.54  1.00  ...   \n",
       "\n",
       "   0.12.2  0.26.1  0.2.1  0.06.3  0.04.2  0.9.1  0.5.2  0.32.2  0.14.3  0.2.2  \n",
       "0    0.02    0.12   0.45       ?       ?      ?      ?     0.0       ?   0.67  \n",
       "1    0.01    0.21   0.02       ?       ?      ?      ?     0.0       ?   0.43  \n",
       "2    0.02    0.39   0.28       ?       ?      ?      ?     0.0       ?   0.12  \n",
       "3    0.04    0.09   0.02       ?       ?      ?      ?     0.0       ?   0.03  \n",
       "4    0.01    0.58   0.10       ?       ?      ?      ?     0.0       ?   0.14  \n",
       "\n",
       "[5 rows x 128 columns]"
      ]
     },
     "execution_count": 35,
     "metadata": {},
     "output_type": "execute_result"
    }
   ],
   "source": [
    "df1.head()"
   ]
  },
  {
   "cell_type": "code",
   "execution_count": 37,
   "id": "1ae630e5-8314-481d-8622-1e5caf0f4a32",
   "metadata": {},
   "outputs": [
    {
     "data": {
      "text/plain": [
       "Index(['8', '?', '?.1', 'Lakewoodcity', '1', '0.19', '0.33', '0.02', '0.9',\n",
       "       '0.12',\n",
       "       ...\n",
       "       '0.12.2', '0.26.1', '0.2.1', '0.06.3', '0.04.2', '0.9.1', '0.5.2',\n",
       "       '0.32.2', '0.14.3', '0.2.2'],\n",
       "      dtype='object', length=128)"
      ]
     },
     "execution_count": 37,
     "metadata": {},
     "output_type": "execute_result"
    }
   ],
   "source": [
    "df1.columns"
   ]
  },
  {
   "cell_type": "markdown",
   "id": "034542b8-a032-4e64-9ce9-1c97b0d9c60d",
   "metadata": {},
   "source": [
    "==> Il y a un probleme avec les noms de colonnes parceque le fichier .data sa premiere ligne n'est pas vrm les nom de colonnes donc il faut les extraire du fichier .names directement "
   ]
  },
  {
   "cell_type": "code",
   "execution_count": 25,
   "id": "d302a51c-e70f-4387-82b2-0351927a6503",
   "metadata": {},
   "outputs": [
    {
     "name": "stdout",
     "output_type": "stream",
     "text": [
      "['state', 'county', 'community', 'communityname', 'fold', 'population', 'householdsize', 'racepctblack', 'racePctWhite', 'racePctAsian', 'racePctHisp', 'agePct12t21', 'agePct12t29', 'agePct16t24', 'agePct65up', 'numbUrban', 'pctUrban', 'medIncome', 'pctWWage', 'pctWFarmSelf', 'pctWInvInc', 'pctWSocSec', 'pctWPubAsst', 'pctWRetire', 'medFamInc', 'perCapInc', 'whitePerCap', 'blackPerCap', 'indianPerCap', 'AsianPerCap', 'OtherPerCap', 'HispPerCap', 'NumUnderPov', 'PctPopUnderPov', 'PctLess9thGrade', 'PctNotHSGrad', 'PctBSorMore', 'PctUnemployed', 'PctEmploy', 'PctEmplManu', 'PctEmplProfServ', 'PctOccupManu', 'PctOccupMgmtProf', 'MalePctDivorce', 'MalePctNevMarr', 'FemalePctDiv', 'TotalPctDiv', 'PersPerFam', 'PctFam2Par', 'PctKids2Par', 'PctYoungKids2Par', 'PctTeen2Par', 'PctWorkMomYoungKids', 'PctWorkMom', 'NumIlleg', 'PctIlleg', 'NumImmig', 'PctImmigRecent', 'PctImmigRec5', 'PctImmigRec8', 'PctImmigRec10', 'PctRecentImmig', 'PctRecImmig5', 'PctRecImmig8', 'PctRecImmig10', 'PctSpeakEnglOnly', 'PctNotSpeakEnglWell', 'PctLargHouseFam', 'PctLargHouseOccup', 'PersPerOccupHous', 'PersPerOwnOccHous', 'PersPerRentOccHous', 'PctPersOwnOccup', 'PctPersDenseHous', 'PctHousLess3BR', 'MedNumBR', 'HousVacant', 'PctHousOccup', 'PctHousOwnOcc', 'PctVacantBoarded', 'PctVacMore6Mos', 'MedYrHousBuilt', 'PctHousNoPhone', 'PctWOFullPlumb', 'OwnOccLowQuart', 'OwnOccMedVal', 'OwnOccHiQuart', 'RentLowQ', 'RentMedian', 'RentHighQ', 'MedRent', 'MedRentPctHousInc', 'MedOwnCostPctInc', 'MedOwnCostPctIncNoMtg', 'NumInShelters', 'NumStreet', 'PctForeignBorn', 'PctBornSameState', 'PctSameHouse85', 'PctSameCity85', 'PctSameState85', 'LemasSwornFT', 'LemasSwFTPerPop', 'LemasSwFTFieldOps', 'LemasSwFTFieldPerPop', 'LemasTotalReq', 'LemasTotReqPerPop', 'PolicReqPerOffic', 'PolicPerPop', 'RacialMatchCommPol', 'PctPolicWhite', 'PctPolicBlack', 'PctPolicHisp', 'PctPolicAsian', 'PctPolicMinor', 'OfficAssgnDrugUnits', 'NumKindsDrugsSeiz', 'PolicAveOTWorked', 'LandArea', 'PopDens', 'PctUsePubTrans', 'PolicCars', 'PolicOperBudg', 'LemasPctPolicOnPatr', 'LemasGangUnitDeploy', 'LemasPctOfficDrugUn', 'PolicBudgPerPop', 'ViolentCrimesPerPop']\n"
     ]
    }
   ],
   "source": [
    "# Lire le fichier contenant les noms des colonnes\n",
    "names_file = \"communities.names\"\n",
    "\n",
    "# Extraire les vrais noms de colonnes\n",
    "real_columns = []\n",
    "with open(names_file, \"r\") as file:\n",
    "    for line in file:\n",
    "        if \"@attribute\" in line:\n",
    "            real_columns.append(line.split()[1])  # Prendre le 2eme élément après \"@attribute\"\n",
    "\n",
    "print(real_columns)\n"
   ]
  },
  {
   "cell_type": "markdown",
   "id": "fe0dbd16-a972-48bb-9017-1721735680d2",
   "metadata": {},
   "source": [
    "**==>** On a toutes les colonnes du dataset "
   ]
  },
  {
   "cell_type": "code",
   "execution_count": 27,
   "id": "837a2133-e13c-4eb9-b545-6faf76a628ad",
   "metadata": {},
   "outputs": [
    {
     "name": "stdout",
     "output_type": "stream",
     "text": [
      "Index(['state', 'county', 'community', 'communityname', 'fold', 'population',\n",
      "       'householdsize', 'racepctblack', 'racePctWhite', 'racePctAsian',\n",
      "       ...\n",
      "       'LandArea', 'PopDens', 'PctUsePubTrans', 'PolicCars', 'PolicOperBudg',\n",
      "       'LemasPctPolicOnPatr', 'LemasGangUnitDeploy', 'LemasPctOfficDrugUn',\n",
      "       'PolicBudgPerPop', 'ViolentCrimesPerPop'],\n",
      "      dtype='object', length=128)\n"
     ]
    }
   ],
   "source": [
    "# Charger les données avec les vrais noms de colonnes\n",
    "df = pd.read_csv(\"communities.data\", header=None, names=real_columns, na_values=\"?\", delimiter=\",\")\n",
    "\n",
    "# Vérifier les noms de colonnes\n",
    "print(df.columns)\n"
   ]
  },
  {
   "cell_type": "code",
   "execution_count": 40,
   "id": "9c3edc3b-28ec-42f4-8941-cd2a13e92353",
   "metadata": {},
   "outputs": [
    {
     "data": {
      "text/html": [
       "<div>\n",
       "<style scoped>\n",
       "    .dataframe tbody tr th:only-of-type {\n",
       "        vertical-align: middle;\n",
       "    }\n",
       "\n",
       "    .dataframe tbody tr th {\n",
       "        vertical-align: top;\n",
       "    }\n",
       "\n",
       "    .dataframe thead th {\n",
       "        text-align: right;\n",
       "    }\n",
       "</style>\n",
       "<table border=\"1\" class=\"dataframe\">\n",
       "  <thead>\n",
       "    <tr style=\"text-align: right;\">\n",
       "      <th></th>\n",
       "      <th>state</th>\n",
       "      <th>county</th>\n",
       "      <th>community</th>\n",
       "      <th>communityname</th>\n",
       "      <th>fold</th>\n",
       "      <th>population</th>\n",
       "      <th>householdsize</th>\n",
       "      <th>racepctblack</th>\n",
       "      <th>racePctWhite</th>\n",
       "      <th>racePctAsian</th>\n",
       "      <th>...</th>\n",
       "      <th>LandArea</th>\n",
       "      <th>PopDens</th>\n",
       "      <th>PctUsePubTrans</th>\n",
       "      <th>PolicCars</th>\n",
       "      <th>PolicOperBudg</th>\n",
       "      <th>LemasPctPolicOnPatr</th>\n",
       "      <th>LemasGangUnitDeploy</th>\n",
       "      <th>LemasPctOfficDrugUn</th>\n",
       "      <th>PolicBudgPerPop</th>\n",
       "      <th>ViolentCrimesPerPop</th>\n",
       "    </tr>\n",
       "  </thead>\n",
       "  <tbody>\n",
       "    <tr>\n",
       "      <th>0</th>\n",
       "      <td>8</td>\n",
       "      <td>NaN</td>\n",
       "      <td>NaN</td>\n",
       "      <td>Lakewoodcity</td>\n",
       "      <td>1</td>\n",
       "      <td>0.19</td>\n",
       "      <td>0.33</td>\n",
       "      <td>0.02</td>\n",
       "      <td>0.90</td>\n",
       "      <td>0.12</td>\n",
       "      <td>...</td>\n",
       "      <td>0.12</td>\n",
       "      <td>0.26</td>\n",
       "      <td>0.20</td>\n",
       "      <td>0.06</td>\n",
       "      <td>0.04</td>\n",
       "      <td>0.9</td>\n",
       "      <td>0.5</td>\n",
       "      <td>0.32</td>\n",
       "      <td>0.14</td>\n",
       "      <td>0.20</td>\n",
       "    </tr>\n",
       "    <tr>\n",
       "      <th>1</th>\n",
       "      <td>53</td>\n",
       "      <td>NaN</td>\n",
       "      <td>NaN</td>\n",
       "      <td>Tukwilacity</td>\n",
       "      <td>1</td>\n",
       "      <td>0.00</td>\n",
       "      <td>0.16</td>\n",
       "      <td>0.12</td>\n",
       "      <td>0.74</td>\n",
       "      <td>0.45</td>\n",
       "      <td>...</td>\n",
       "      <td>0.02</td>\n",
       "      <td>0.12</td>\n",
       "      <td>0.45</td>\n",
       "      <td>NaN</td>\n",
       "      <td>NaN</td>\n",
       "      <td>NaN</td>\n",
       "      <td>NaN</td>\n",
       "      <td>0.00</td>\n",
       "      <td>NaN</td>\n",
       "      <td>0.67</td>\n",
       "    </tr>\n",
       "    <tr>\n",
       "      <th>2</th>\n",
       "      <td>24</td>\n",
       "      <td>NaN</td>\n",
       "      <td>NaN</td>\n",
       "      <td>Aberdeentown</td>\n",
       "      <td>1</td>\n",
       "      <td>0.00</td>\n",
       "      <td>0.42</td>\n",
       "      <td>0.49</td>\n",
       "      <td>0.56</td>\n",
       "      <td>0.17</td>\n",
       "      <td>...</td>\n",
       "      <td>0.01</td>\n",
       "      <td>0.21</td>\n",
       "      <td>0.02</td>\n",
       "      <td>NaN</td>\n",
       "      <td>NaN</td>\n",
       "      <td>NaN</td>\n",
       "      <td>NaN</td>\n",
       "      <td>0.00</td>\n",
       "      <td>NaN</td>\n",
       "      <td>0.43</td>\n",
       "    </tr>\n",
       "    <tr>\n",
       "      <th>3</th>\n",
       "      <td>34</td>\n",
       "      <td>5.0</td>\n",
       "      <td>81440.0</td>\n",
       "      <td>Willingborotownship</td>\n",
       "      <td>1</td>\n",
       "      <td>0.04</td>\n",
       "      <td>0.77</td>\n",
       "      <td>1.00</td>\n",
       "      <td>0.08</td>\n",
       "      <td>0.12</td>\n",
       "      <td>...</td>\n",
       "      <td>0.02</td>\n",
       "      <td>0.39</td>\n",
       "      <td>0.28</td>\n",
       "      <td>NaN</td>\n",
       "      <td>NaN</td>\n",
       "      <td>NaN</td>\n",
       "      <td>NaN</td>\n",
       "      <td>0.00</td>\n",
       "      <td>NaN</td>\n",
       "      <td>0.12</td>\n",
       "    </tr>\n",
       "    <tr>\n",
       "      <th>4</th>\n",
       "      <td>42</td>\n",
       "      <td>95.0</td>\n",
       "      <td>6096.0</td>\n",
       "      <td>Bethlehemtownship</td>\n",
       "      <td>1</td>\n",
       "      <td>0.01</td>\n",
       "      <td>0.55</td>\n",
       "      <td>0.02</td>\n",
       "      <td>0.95</td>\n",
       "      <td>0.09</td>\n",
       "      <td>...</td>\n",
       "      <td>0.04</td>\n",
       "      <td>0.09</td>\n",
       "      <td>0.02</td>\n",
       "      <td>NaN</td>\n",
       "      <td>NaN</td>\n",
       "      <td>NaN</td>\n",
       "      <td>NaN</td>\n",
       "      <td>0.00</td>\n",
       "      <td>NaN</td>\n",
       "      <td>0.03</td>\n",
       "    </tr>\n",
       "  </tbody>\n",
       "</table>\n",
       "<p>5 rows × 128 columns</p>\n",
       "</div>"
      ],
      "text/plain": [
       "   state  county  community        communityname  fold  population  \\\n",
       "0      8     NaN        NaN         Lakewoodcity     1        0.19   \n",
       "1     53     NaN        NaN          Tukwilacity     1        0.00   \n",
       "2     24     NaN        NaN         Aberdeentown     1        0.00   \n",
       "3     34     5.0    81440.0  Willingborotownship     1        0.04   \n",
       "4     42    95.0     6096.0    Bethlehemtownship     1        0.01   \n",
       "\n",
       "   householdsize  racepctblack  racePctWhite  racePctAsian  ...  LandArea  \\\n",
       "0           0.33          0.02          0.90          0.12  ...      0.12   \n",
       "1           0.16          0.12          0.74          0.45  ...      0.02   \n",
       "2           0.42          0.49          0.56          0.17  ...      0.01   \n",
       "3           0.77          1.00          0.08          0.12  ...      0.02   \n",
       "4           0.55          0.02          0.95          0.09  ...      0.04   \n",
       "\n",
       "   PopDens  PctUsePubTrans  PolicCars  PolicOperBudg  LemasPctPolicOnPatr  \\\n",
       "0     0.26            0.20       0.06           0.04                  0.9   \n",
       "1     0.12            0.45        NaN            NaN                  NaN   \n",
       "2     0.21            0.02        NaN            NaN                  NaN   \n",
       "3     0.39            0.28        NaN            NaN                  NaN   \n",
       "4     0.09            0.02        NaN            NaN                  NaN   \n",
       "\n",
       "   LemasGangUnitDeploy  LemasPctOfficDrugUn  PolicBudgPerPop  \\\n",
       "0                  0.5                 0.32             0.14   \n",
       "1                  NaN                 0.00              NaN   \n",
       "2                  NaN                 0.00              NaN   \n",
       "3                  NaN                 0.00              NaN   \n",
       "4                  NaN                 0.00              NaN   \n",
       "\n",
       "   ViolentCrimesPerPop  \n",
       "0                 0.20  \n",
       "1                 0.67  \n",
       "2                 0.43  \n",
       "3                 0.12  \n",
       "4                 0.03  \n",
       "\n",
       "[5 rows x 128 columns]"
      ]
     },
     "execution_count": 40,
     "metadata": {},
     "output_type": "execute_result"
    }
   ],
   "source": [
    "df.head()"
   ]
  },
  {
   "cell_type": "code",
   "execution_count": 42,
   "id": "0f6559a4-92ce-4187-9bac-4f69dba527f2",
   "metadata": {},
   "outputs": [
    {
     "data": {
      "text/plain": [
       "(1994, 128)"
      ]
     },
     "execution_count": 42,
     "metadata": {},
     "output_type": "execute_result"
    }
   ],
   "source": [
    "df.shape"
   ]
  },
  {
   "cell_type": "markdown",
   "id": "f7ac151b-1319-4bfd-8caa-33fa824dcec4",
   "metadata": {},
   "source": [
    "==> On a 1994 observations et 128 variables"
   ]
  },
  {
   "cell_type": "markdown",
   "id": "432826ff-b900-4e59-9916-69c60384fe54",
   "metadata": {},
   "source": [
    "## Gestion des valeurs manquantes"
   ]
  },
  {
   "cell_type": "code",
   "execution_count": 49,
   "id": "8378f77c-5e15-4ea0-9869-018ded0d93d5",
   "metadata": {},
   "outputs": [
    {
     "data": {
      "text/plain": [
       "PolicReqPerOffic        1675\n",
       "PolicAveOTWorked        1675\n",
       "PolicPerPop             1675\n",
       "RacialMatchCommPol      1675\n",
       "PctPolicWhite           1675\n",
       "PctPolicBlack           1675\n",
       "PctPolicHisp            1675\n",
       "PctPolicAsian           1675\n",
       "PctPolicMinor           1675\n",
       "OfficAssgnDrugUnits     1675\n",
       "NumKindsDrugsSeiz       1675\n",
       "LemasSwFTFieldPerPop    1675\n",
       "LemasTotReqPerPop       1675\n",
       "LemasSwFTFieldOps       1675\n",
       "LemasSwFTPerPop         1675\n",
       "PolicCars               1675\n",
       "PolicOperBudg           1675\n",
       "LemasPctPolicOnPatr     1675\n",
       "LemasGangUnitDeploy     1675\n",
       "LemasSwornFT            1675\n",
       "PolicBudgPerPop         1675\n",
       "LemasTotalReq           1675\n",
       "community               1177\n",
       "county                  1174\n",
       "OtherPerCap                1\n",
       "OwnOccMedVal               0\n",
       "HousVacant                 0\n",
       "PctWOFullPlumb             0\n",
       "PctHousNoPhone             0\n",
       "MedYrHousBuilt             0\n",
       "dtype: int64"
      ]
     },
     "execution_count": 49,
     "metadata": {},
     "output_type": "execute_result"
    }
   ],
   "source": [
    "df.isnull().sum().sort_values(ascending=False).head(n=30)"
   ]
  },
  {
   "cell_type": "code",
   "execution_count": 51,
   "id": "954c78e6-4422-4149-8132-e2fe6591a8f6",
   "metadata": {},
   "outputs": [
    {
     "data": {
      "text/plain": [
       "PolicReqPerOffic        1675\n",
       "PolicAveOTWorked        1675\n",
       "PolicPerPop             1675\n",
       "RacialMatchCommPol      1675\n",
       "PctPolicWhite           1675\n",
       "PctPolicBlack           1675\n",
       "PctPolicHisp            1675\n",
       "PctPolicAsian           1675\n",
       "PctPolicMinor           1675\n",
       "OfficAssgnDrugUnits     1675\n",
       "NumKindsDrugsSeiz       1675\n",
       "LemasSwFTFieldPerPop    1675\n",
       "LemasTotReqPerPop       1675\n",
       "LemasSwFTFieldOps       1675\n",
       "LemasSwFTPerPop         1675\n",
       "PolicCars               1675\n",
       "PolicOperBudg           1675\n",
       "LemasPctPolicOnPatr     1675\n",
       "LemasGangUnitDeploy     1675\n",
       "LemasSwornFT            1675\n",
       "PolicBudgPerPop         1675\n",
       "LemasTotalReq           1675\n",
       "community               1177\n",
       "county                  1174\n",
       "OtherPerCap                1\n",
       "OwnOccMedVal               0\n",
       "HousVacant                 0\n",
       "PctWOFullPlumb             0\n",
       "PctHousNoPhone             0\n",
       "MedYrHousBuilt             0\n",
       "dtype: int64"
      ]
     },
     "execution_count": 51,
     "metadata": {},
     "output_type": "execute_result"
    }
   ],
   "source": [
    "df.replace(\"?\", pd.NA, inplace=True)  # Convertir les \"?\" en NaN\n",
    "df.isnull().sum().sort_values(ascending=False).head(30)\n"
   ]
  },
  {
   "cell_type": "markdown",
   "id": "c42185cc-d50f-43e5-94d1-2d96b7fb8441",
   "metadata": {},
   "source": [
    "==> Pour avoir toutes les valeurs manquantes meme celles ou on a '?'"
   ]
  },
  {
   "cell_type": "code",
   "execution_count": 53,
   "id": "82b196dd-1f89-4641-bb9c-1dcc51aa35d3",
   "metadata": {},
   "outputs": [],
   "source": [
    "# Supprimer colonnes non utiles\n",
    "df.drop(columns=[\"state\", \"county\", \"community\", \"communityname\", \"fold\"], inplace=True)  \n"
   ]
  },
  {
   "cell_type": "code",
   "execution_count": 55,
   "id": "81624694-0ee4-4acf-abbe-60f139768ff5",
   "metadata": {},
   "outputs": [
    {
     "data": {
      "text/plain": [
       "(1994, 123)"
      ]
     },
     "execution_count": 55,
     "metadata": {},
     "output_type": "execute_result"
    }
   ],
   "source": [
    "df.shape"
   ]
  },
  {
   "cell_type": "code",
   "execution_count": 64,
   "id": "20ef635f-4ada-416d-b625-197e8176cfb9",
   "metadata": {},
   "outputs": [],
   "source": [
    "# Définir un seuil de 80% de valeurs manquantes et supprimer ces colonnes\n",
    "seuil = 0.8 * len(df)\n",
    "df = df.dropna(thresh=seuil, axis=1)"
   ]
  },
  {
   "cell_type": "code",
   "execution_count": 66,
   "id": "6d403200-61ac-4c77-a1d7-4299d2f4f20c",
   "metadata": {},
   "outputs": [],
   "source": [
    "# Remplacer les valeurs manquantes par la médiane des colonnes numériques\n",
    "df.fillna(df.median(), inplace=True)"
   ]
  },
  {
   "cell_type": "code",
   "execution_count": 68,
   "id": "620c102d-9df3-49f7-a9e9-329444bff89f",
   "metadata": {},
   "outputs": [
    {
     "name": "stdout",
     "output_type": "stream",
     "text": [
      "0\n"
     ]
    }
   ],
   "source": [
    "print(df.isnull().sum().sum())  # Doit afficher 0 si toutes les valeurs manquantes sont gérées\n"
   ]
  },
  {
   "cell_type": "markdown",
   "id": "61bd0e7a-f0b4-43eb-a11a-329a4e41a9b2",
   "metadata": {},
   "source": [
    "**==>** Il reste 0 valeur manquante "
   ]
  },
  {
   "cell_type": "markdown",
   "id": "fa8b5193-920c-4f9b-9e90-7651e16fa735",
   "metadata": {},
   "source": [
    "## Analyse de la variable cible "
   ]
  },
  {
   "cell_type": "code",
   "execution_count": 70,
   "id": "e3bea129-c264-4e47-afb1-b3d493b65f1c",
   "metadata": {},
   "outputs": [
    {
     "data": {
      "image/png": "[encoded data removed]",
      "text/plain": [
       "<Figure size 640x480 with 1 Axes>"
      ]
     },
     "metadata": {},
     "output_type": "display_data"
    }
   ],
   "source": [
    "import matplotlib.pyplot as plt\n",
    "\n",
    "plt.hist(df[\"ViolentCrimesPerPop\"].dropna(), bins=30, edgecolor=\"black\")\n",
    "plt.xlabel(\"Taux de Crimes Violents par Habitant\")\n",
    "plt.ylabel(\"Nombre de Communautés\")\n",
    "plt.title(\"Distribution de la Variable Cible\")\n",
    "plt.show()\n"
   ]
  },
  {
   "cell_type": "markdown",
   "id": "ed31646c-a3e1-43e1-aec6-da5979617d39",
   "metadata": {},
   "source": [
    "==> On observe une distribution asymétrique à droite, avec une majorité de communautés présentant un faible taux de crimes violents, tandis que quelques communautés affichent des valeurs élevées proches de 1."
   ]
  },
  {
   "cell_type": "markdown",
   "id": "31b1124a-f1ee-4a6a-bcbb-5050cbcdde67",
   "metadata": {},
   "source": [
    "## Implémentation de **ISTA**"
   ]
  },
  {
   "cell_type": "code",
   "execution_count": 97,
   "id": "99fd2d89-f10c-45ef-a15c-7d05d08ba4d2",
   "metadata": {},
   "outputs": [],
   "source": [
    "import numpy as np\n",
    "from sklearn.model_selection import KFold\n",
    "from sklearn.metrics import mean_squared_error\n",
    "import matplotlib.pyplot as plt\n",
    "\n",
    "# Séparer les variables explicatives et la cible\n",
    "X = df.drop(columns=[\"ViolentCrimesPerPop\"]).values\n",
    "y = df[\"ViolentCrimesPerPop\"].values"
   ]
  },
  {
   "cell_type": "code",
   "execution_count": 83,
   "id": "c21f9b6b-c403-47dd-bea4-de65bd9c8e58",
   "metadata": {},
   "outputs": [],
   "source": [
    "\n",
    "# Fonction de seuillage (Soft-Thresholding)\n",
    "def soft_thresholding(x, theta):\n",
    "    return np.sign(x) * np.maximum(np.abs(x) - theta, 0)\n"
   ]
  },
  {
   "cell_type": "code",
   "execution_count": 85,
   "id": "dc6b5995-c00c-43fa-9862-f27ae073c85f",
   "metadata": {},
   "outputs": [],
   "source": [
    "# Algorithme ISTA\n",
    "def ista(X, y, lambda_, L, num_iterations):\n",
    "    n, p = X.shape\n",
    "    beta = np.zeros(p)  # Initialisation des coefficients\n",
    "\n",
    "    for _ in range(num_iterations):\n",
    "        gradient = - (1 / n) * X.T @ (y - X @ beta)  # Calcul du gradient\n",
    "        beta = soft_thresholding(beta - (1 / L) * gradient, lambda_ / L)  # Mise à jour avec seuillage\n",
    "\n",
    "    return beta\n"
   ]
  },
  {
   "cell_type": "code",
   "execution_count": 87,
   "id": "d920f95d-a6a2-46d7-85c1-10877647421a",
   "metadata": {},
   "outputs": [],
   "source": [
    "# Fonction pour effectuer la validation croisée\n",
    "def cross_validate_ista(X, y, lambda_values, num_folds=5, num_iterations=1000):\n",
    "    kf = KFold(n_splits=num_folds, shuffle=True, random_state=42)  # 5-fold CV\n",
    "    results = {}\n",
    "\n",
    "    for lambda_ in lambda_values:\n",
    "        fold_errors = []\n",
    "\n",
    "        for train_index, test_index in kf.split(X):\n",
    "            X_train, X_test = X[train_index], X[test_index]\n",
    "            y_train, y_test = y[train_index], y[test_index]\n",
    "\n",
    "            # Calcul de la constante L (Lipschitz)\n",
    "            L = np.linalg.norm(X_train.T @ X_train, ord=2) / len(X_train)\n",
    "            \n",
    "            # Entraînement de l'algorithme ISTA\n",
    "            beta_ista = ista(X_train, y_train, lambda_, L, num_iterations)\n",
    "\n",
    "            # Prédiction et calcul de l'erreur\n",
    "            y_pred = X_test @ beta_ista\n",
    "            rmse = np.sqrt(mean_squared_error(y_test, y_pred))\n",
    "            fold_errors.append(rmse)\n",
    "\n",
    "        # Stocker la moyenne des erreurs RMSE sur les k folds\n",
    "        results[lambda_] = np.mean(fold_errors)\n",
    "\n",
    "    return results\n",
    "\n"
   ]
  },
  {
   "cell_type": "markdown",
   "id": "2dc28153-857e-45c8-994e-4e3a92d8e071",
   "metadata": {},
   "source": [
    "### Résultats de RMSE de ISTA "
   ]
  },
  {
   "cell_type": "code",
   "execution_count": 91,
   "id": "9d930bef-a551-4463-a593-3dab4d394db9",
   "metadata": {},
   "outputs": [
    {
     "name": "stdout",
     "output_type": "stream",
     "text": [
      "Lambda = 0.1, RMSE moyen (validation croisée) = 0.2772697665033179\n",
      "Lambda = 1, RMSE moyen (validation croisée) = 0.3323717668901751\n",
      "Lambda = 10, RMSE moyen (validation croisée) = 0.3323717668901751\n"
     ]
    }
   ],
   "source": [
    "# Définition des valeurs de lambda à tester\n",
    "lambda_values = [0.1, 1, 10]\n",
    "\n",
    "# Application de la validation croisée sur ISTA\n",
    "results_cv = cross_validate_ista(X, y, lambda_values)\n",
    "\n",
    "# Affichage des résultats\n",
    "for lambda_, rmse in results_cv.items():\n",
    "    print(f\"Lambda = {lambda_}, RMSE moyen (validation croisée) = {rmse}\")\n"
   ]
  },
  {
   "cell_type": "markdown",
   "id": "61fa439d-cb78-4d3d-a54b-0b845eba44b5",
   "metadata": {},
   "source": [
    "==> On peut conclure que  lambda=0.1 a le meilleur resultat de généralisation et la meilleure capacité à prédire les crimes viloents par habitant.\n"
   ]
  },
  {
   "cell_type": "markdown",
   "id": "420430c1-2005-4963-98fe-d0330389608a",
   "metadata": {},
   "source": [
    "### Visualisation de la courbe de convergence de ISTA "
   ]
  },
  {
   "cell_type": "code",
   "execution_count": 93,
   "id": "00478331-33ca-4037-b08b-6c801c543060",
   "metadata": {},
   "outputs": [
    {
     "data": {
      "image/png": "[encoded data removed]",
      "text/plain": [
       "<Figure size 640x480 with 1 Axes>"
      ]
     },
     "metadata": {},
     "output_type": "display_data"
    }
   ],
   "source": [
    "\n",
    "# Exécuter ISTA et stocker les erreurs MSE au fil des itérations\n",
    "num_iterations = 1000\n",
    "L = np.linalg.norm(X.T @ X, ord=2) / len(X)\n",
    "\n",
    "errors = []\n",
    "beta = np.zeros(X.shape[1])  # Initialisation\n",
    "lambda_ = 0.1  # Exemple\n",
    "\n",
    "for _ in range(num_iterations):\n",
    "    gradient = - (1 / len(X)) * X.T @ (y - X @ beta)\n",
    "    beta = soft_thresholding(beta - (1 / L) * gradient, lambda_ / L)\n",
    "    y_pred = X @ beta\n",
    "    mse = mean_squared_error(y, y_pred)\n",
    "    errors.append(mse)\n",
    "\n",
    "# Affichage de la courbe de convergence\n",
    "plt.plot(range(num_iterations), errors, label=\"ISTA\")\n",
    "plt.xlabel(\"Nombre d'itérations\")\n",
    "plt.ylabel(\"Erreur quadratique moyenne (MSE)\")\n",
    "plt.title(\"Convergence de l'algorithme ISTA\")\n",
    "plt.legend()\n",
    "plt.show()\n"
   ]
  },
  {
   "cell_type": "markdown",
   "id": "f08a24f3-7440-47b3-aaee-47c1a57a0da0",
   "metadata": {},
   "source": [
    "==> l'algorithme converge efficacement et atteint une solution stable après environ 200 itérations"
   ]
  },
  {
   "cell_type": "markdown",
   "id": "dd323f7d-c130-4519-b482-9856671dd169",
   "metadata": {},
   "source": [
    "## Implémentation de **FSTA**"
   ]
  },
  {
   "cell_type": "code",
   "execution_count": 101,
   "id": "7e77ac55-e912-4d49-9cb6-55c0b44204e7",
   "metadata": {},
   "outputs": [],
   "source": [
    "# Seuillage doux\n",
    "def soft_thresholding(x, theta):\n",
    "    return np.sign(x) * np.maximum(np.abs(x) - theta, 0)\n",
    "\n",
    "# Algorithme FISTA\n",
    "def fista(X, y, lambda_, L, num_iterations):\n",
    "    n, p = X.shape\n",
    "    beta = np.zeros(p)\n",
    "    beta_old = np.zeros(p)\n",
    "    t = 1\n",
    "\n",
    "    mse_values = []\n",
    "\n",
    "    for _ in range(num_iterations):\n",
    "        gradient = - (1 / n) * X.T @ (y - X @ beta)\n",
    "        beta_new = soft_thresholding(beta - (1 / L) * gradient, lambda_ / L)\n",
    "        \n",
    "        t_new = (1 + np.sqrt(1 + 4 * t**2)) / 2\n",
    "        beta = beta_new + ((t - 1) / t_new) * (beta_new - beta_old)\n",
    "\n",
    "        t = t_new\n",
    "        beta_old = beta_new\n",
    "\n",
    "        mse_values.append(mean_squared_error(y, X @ beta))\n",
    "\n",
    "    return beta, mse_values"
   ]
  },
  {
   "cell_type": "code",
   "execution_count": 103,
   "id": "7b2122a8-0ac6-485c-be85-76da8ea2368e",
   "metadata": {},
   "outputs": [],
   "source": [
    "# Validation croisée pour FISTA\n",
    "def cross_validation_fista(X, y, lambda_values, num_folds=5, num_iterations=1000):\n",
    "    kf = KFold(n_splits=num_folds, shuffle=True, random_state=42)\n",
    "    L = np.linalg.norm(X.T @ X, 2) / X.shape[0]  # Plus grande valeur propre de X^TX / n\n",
    "    \n",
    "    best_lambda = None\n",
    "    best_rmse = float('inf')\n",
    "    rmse_results = {}\n",
    "\n",
    "    for lambda_ in lambda_values:\n",
    "        rmse_list = []\n",
    "        for train_index, test_index in kf.split(X):\n",
    "            X_train, X_test = X[train_index], X[test_index]\n",
    "            y_train, y_test = y[train_index], y[test_index]\n",
    "\n",
    "            beta, _ = fista(X_train, y_train, lambda_, L, num_iterations)\n",
    "            y_pred = X_test @ beta\n",
    "            rmse = np.sqrt(mean_squared_error(y_test, y_pred))\n",
    "            rmse_list.append(rmse)\n",
    "        \n",
    "        avg_rmse = np.mean(rmse_list)\n",
    "        rmse_results[lambda_] = avg_rmse\n",
    "\n",
    "        if avg_rmse < best_rmse:\n",
    "            best_rmse = avg_rmse\n",
    "            best_lambda = lambda_\n",
    "\n",
    "    return rmse_results, best_lambda"
   ]
  },
  {
   "cell_type": "markdown",
   "id": "c2f7e30e-1c1c-4b4a-8f6e-d9e0d87d49c2",
   "metadata": {},
   "source": [
    "### Résultats de RMSE de FSTA "
   ]
  },
  {
   "cell_type": "code",
   "execution_count": 105,
   "id": "3ab063ca-ce6b-4f11-af46-35e98f9fc082",
   "metadata": {},
   "outputs": [
    {
     "name": "stdout",
     "output_type": "stream",
     "text": [
      "Lambda = 0.1, RMSE moyen (validation croisée) = 0.2772697559305679\n",
      "Lambda = 1, RMSE moyen (validation croisée) = 0.3323717668901751\n",
      "Lambda = 10, RMSE moyen (validation croisée) = 0.3323717668901751\n"
     ]
    }
   ],
   "source": [
    "# Lancer la validation croisée pour FISTA\n",
    "lambda_values = [0.1, 1, 10]\n",
    "rmse_results_fista, best_lambda_fista = cross_validation_fista(X, y, lambda_values)\n",
    "\n",
    "# Afficher les résultats\n",
    "for lambda_, rmse in rmse_results_fista.items():\n",
    "    print(f\"Lambda = {lambda_}, RMSE moyen (validation croisée) = {rmse}\")\n",
    "\n"
   ]
  },
  {
   "cell_type": "markdown",
   "id": "00961a1f-a971-4f5e-bd62-92f88fb2e426",
   "metadata": {},
   "source": [
    "**==>** Pour FISTA aussi on peut conclure que  lambda=0.1 a le meilleur resultat de généralisation et la meilleure capacité à prédire les crimes viloents par habitant.\n"
   ]
  },
  {
   "cell_type": "markdown",
   "id": "ac648e14-bdc5-4af8-b9dd-9e600ee86592",
   "metadata": {},
   "source": [
    "### Visualisation de la courbe de convergence de FISTA "
   ]
  },
  {
   "cell_type": "code",
   "execution_count": 127,
   "id": "a688fbf1-456e-4ce3-ae7f-8ee3185b5d63",
   "metadata": {},
   "outputs": [
    {
     "data": {
      "image/png": "[encoded data removed]",
      "text/plain": [
       "<Figure size 640x480 with 1 Axes>"
      ]
     },
     "metadata": {},
     "output_type": "display_data"
    }
   ],
   "source": [
    "# Afficher la convergence de FISTA pour la meilleure valeur de lambda\n",
    "best_beta_fista, mse_values_fista = fista(X, y, best_lambda_fista, np.linalg.norm(X.T @ X, 2) / X.shape[0], num_iterations=1000)\n",
    "plt.plot(range(1, len(mse_values_fista) + 1), mse_values_fista, label=\"FISTA\")\n",
    "plt.xlabel(\"Nombre d'itérations\")\n",
    "plt.ylabel(\"Erreur quadratique moyenne (MSE)\")\n",
    "plt.title(\"Convergence de l'algorithme FISTA\")\n",
    "plt.legend()\n",
    "plt.show()"
   ]
  },
  {
   "cell_type": "markdown",
   "id": "fb1b5316-175e-4cb4-9caf-d2bcae606c00",
   "metadata": {},
   "source": [
    "**==>** On remarque une convergence rapide pour FISTA en qq dizaines d'itérations, il atteint plus rapidement que ISTA une stabilité apres une phase de fluctuations."
   ]
  },
  {
   "cell_type": "markdown",
   "id": "22aedd0c-d686-407a-8ad2-93821ba0a50d",
   "metadata": {},
   "source": [
    "## Implémentation de **CGDA**"
   ]
  },
  {
   "cell_type": "code",
   "execution_count": 138,
   "id": "7c0e17c6-55ca-466b-8bbe-8e889e40fb51",
   "metadata": {},
   "outputs": [],
   "source": [
    "# Fonction de seuillage (soft-thresholding)\n",
    "def soft_thresholding(x, theta):\n",
    "    return np.sign(x) * np.maximum(np.abs(x) - theta, 0)\n",
    "\n",
    "# Implémentation de CGDA avec suivi de la convergence\n",
    "def cgda(X, y, lambda_, num_iterations):\n",
    "    n, p = X.shape\n",
    "    beta = np.zeros(p)  \n",
    "\n",
    "    XTX = X.T @ X\n",
    "    XTy = X.T @ y\n",
    "    mse_values = []  # Stockage des valeurs de MSE\n",
    "\n",
    "    for _ in range(num_iterations):\n",
    "        for j in range(p):\n",
    "            # Mise à jour de la coordonnée j\n",
    "            residual = XTy[j] - np.sum(XTX[j, :] * beta) + XTX[j, j] * beta[j]\n",
    "            beta[j] = soft_thresholding(residual, n * lambda_) / XTX[j, j]\n",
    "\n",
    "        # Calcul de l'erreur quadratique moyenne (MSE)\n",
    "        y_pred = X @ beta\n",
    "        mse = mean_squared_error(y, y_pred)\n",
    "        mse_values.append(mse)  # Stockage des erreurs\n",
    "\n",
    "    return beta, mse_values  # Retourne beta + les valeurs de convergence MSE\n",
    "\n",
    "    "
   ]
  },
  {
   "cell_type": "code",
   "execution_count": 141,
   "id": "33182e57-dea5-4b5f-a0a4-71def080302f",
   "metadata": {},
   "outputs": [],
   "source": [
    "# Fonction d'évaluation avec validation croisée\n",
    "def evaluate_cgda(X, y, lambda_values, num_iterations, num_folds=5):\n",
    "    \n",
    "    kf = KFold(n_splits=num_folds, shuffle=True, random_state=42)\n",
    "    results = {}\n",
    "    mse_convergence = {}\n",
    "\n",
    "    for lambda_ in lambda_values:\n",
    "        mse_list = []\n",
    "        mse_convergence[lambda_] = []\n",
    "        \n",
    "        for train_index, test_index in kf.split(X):\n",
    "            X_train, X_test = X[train_index], X[test_index]\n",
    "            y_train, y_test = y[train_index], y[test_index]\n",
    "            \n",
    "            beta = np.zeros(X.shape[1])\n",
    "            mse_per_iteration = []\n",
    "\n",
    "            for _ in range(num_iterations):\n",
    "                for j in range(X.shape[1]):\n",
    "                    residual = X_train[:, j].T @ y_train - np.sum(X_train[:, j] @ X_train @ beta) + X_train[:, j].T @ X_train[:, j] * beta[j]\n",
    "                    beta[j] = soft_thresholding(residual, len(y_train) * lambda_) / (X_train[:, j].T @ X_train[:, j])\n",
    "\n",
    "                y_pred = X_test @ beta\n",
    "                mse_per_iteration.append(mean_squared_error(y_test, y_pred))\n",
    "            \n",
    "            mse_convergence[lambda_].append(mse_per_iteration)\n",
    "            mse_list.append(mean_squared_error(y_test, X_test @ beta))\n",
    "\n",
    "        results[lambda_] = np.mean(mse_list)\n",
    "\n",
    "    return results, mse_convergence"
   ]
  },
  {
   "cell_type": "markdown",
   "id": "60ea7836-4300-4097-8278-e6c6d1accd7c",
   "metadata": {},
   "source": [
    "### Résultats de RMSE de CGDA"
   ]
  },
  {
   "cell_type": "code",
   "execution_count": 143,
   "id": "1ef9fe64-b405-46c6-8662-085cd7e68824",
   "metadata": {},
   "outputs": [
    {
     "name": "stdout",
     "output_type": "stream",
     "text": [
      "Lambda = 0.1, RMSE moyen (validation croisée) = 0.077327\n",
      "Lambda = 1, RMSE moyen (validation croisée) = 0.110890\n",
      "Lambda = 10, RMSE moyen (validation croisée) = 0.110890\n"
     ]
    }
   ],
   "source": [
    "# Définition des paramètres\n",
    "lambda_values = [0.1, 1, 10]\n",
    "num_iterations = 1000\n",
    "\n",
    "# Évaluation de CGDA\n",
    "rmse_results_cgda, mse_convergence_cgda = evaluate_cgda(X, y, lambda_values, num_iterations)\n",
    "\n",
    "# Affichage des résultats\n",
    "for lambda_, rmse in rmse_results_cgda.items():\n",
    "    print(f\"Lambda = {lambda_}, RMSE moyen (validation croisée) = {rmse:.6f}\")"
   ]
  },
  {
   "cell_type": "markdown",
   "id": "df6c7907-7c5d-4e5f-91c8-ae9156e77d23",
   "metadata": {},
   "source": [
    "**==>** lambda=0.1 donne la meilleure généralisation sur les données de test"
   ]
  },
  {
   "cell_type": "markdown",
   "id": "fa3eb600-0725-4893-9375-73b723cff23b",
   "metadata": {},
   "source": [
    "### Visualisation de la courbe de convergence de CGDA\n"
   ]
  },
  {
   "cell_type": "code",
   "execution_count": 145,
   "id": "583899be-489a-4d77-8983-29023ec6a9a7",
   "metadata": {},
   "outputs": [
    {
     "data": {
      "image/png": "[encoded data removed]",
      "text/plain": [
       "<Figure size 640x480 with 1 Axes>"
      ]
     },
     "metadata": {},
     "output_type": "display_data"
    }
   ],
   "source": [
    "# Trouver la meilleure valeur de lambda pour CGDA\n",
    "best_lambda_cgda = min(rmse_results_cgda, key=rmse_results_cgda.get)\n",
    "\n",
    "# Exécuter CGDA pour la meilleure valeur de lambda\n",
    "best_beta_cgda, mse_values_cgda = cgda(X, y, best_lambda_cgda, num_iterations=1000)\n",
    "\n",
    "# Tracer la convergence de CGDA\n",
    "plt.plot(range(1, len(mse_values_cgda) + 1), mse_values_cgda, label=\"CGDA\")\n",
    "plt.xlabel(\"Nombre d'itérations\")\n",
    "plt.ylabel(\"Erreur quadratique moyenne (MSE)\")\n",
    "plt.title(\"Convergence de l'algorithme CGDA\")\n",
    "plt.legend()\n",
    "plt.show()\n",
    "\n",
    "\n"
   ]
  },
  {
   "cell_type": "markdown",
   "id": "c7524afb-083e-4c08-bb0b-dcde59237cb8",
   "metadata": {},
   "source": [
    "**==>** La courbe de convergence de CGDA montre une décroissance rapide du MSE dès les premières itérations, puis une stabilisation quasi immédiate autour d’une valeur constante"
   ]
  },
  {
   "cell_type": "code",
   "execution_count": null,
   "id": "ca69396c-b3a6-44f3-b71c-8e8188189b08",
   "metadata": {},
   "outputs": [],
   "source": []
  }
 ],
 "metadata": {
  "kernelspec": {
   "display_name": "Python 3 (ipykernel)",
   "language": "python",
   "name": "python3"
  },
  "language_info": {
   "codemirror_mode": {
    "name": "ipython",
    "version": 3
   },
   "file_extension": ".py",
   "mimetype": "text/x-python",
   "name": "python",
   "nbconvert_exporter": "python",
   "pygments_lexer": "ipython3",
   "version": "3.12.4"
  }
 },
 "nbformat": 4,
 "nbformat_minor": 5
}
